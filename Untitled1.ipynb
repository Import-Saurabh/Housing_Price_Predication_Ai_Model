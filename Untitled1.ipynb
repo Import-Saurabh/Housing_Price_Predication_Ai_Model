{
 "cells": [
  {
   "cell_type": "code",
   "execution_count": null,
   "id": "9e6250a8-3ae1-4868-988d-a79db115645e",
   "metadata": {},
   "outputs": [],
   "source": [
    "import random\n",
    "\n",
    "print(\"stone 1\")\n",
    "print(\"paper 2\")\n",
    "print(\"scissor 3\")\n",
    "\n",
    "      \n",
    "p1=input(\"enter number 1\")\n",
    "\n",
    "\n",
    "comp=random.randint(1,3)\n",
    "\n",
    "if p1==1 and comp==2\n",
    "   print(\"winer p1\")\n",
    "elif p2==1 and comp==3\n",
    "   print(\"winner p1\")\n",
    "elif p2==1 and comp==1\n",
    "   print(\"draw\")\n",
    "elif p2\n"
   ]
  }
 ],
 "metadata": {
  "kernelspec": {
   "display_name": "Python 3 (ipykernel)",
   "language": "python",
   "name": "python3"
  },
  "language_info": {
   "codemirror_mode": {
    "name": "ipython",
    "version": 3
   },
   "file_extension": ".py",
   "mimetype": "text/x-python",
   "name": "python",
   "nbconvert_exporter": "python",
   "pygments_lexer": "ipython3",
   "version": "3.12.1"
  }
 },
 "nbformat": 4,
 "nbformat_minor": 5
}
